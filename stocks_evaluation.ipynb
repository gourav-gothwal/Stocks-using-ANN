{
  "cells": [
    {
      "cell_type": "code",
      "execution_count": 41,
      "id": "dfff93b6",
      "metadata": {
        "id": "dfff93b6"
      },
      "outputs": [],
      "source": [
        "# Dependencies\n",
        "import yfinance as yf\n",
        "import pandas as pd\n",
        "import numpy as np\n",
        "from sklearn.preprocessing import MinMaxScaler\n",
        "from sklearn.model_selection import train_test_split\n",
        "from tensorflow.keras.models import Sequential\n",
        "from tensorflow.keras.layers import Dense\n",
        "import matplotlib.pyplot as plt\n"
      ]
    },
    {
      "cell_type": "code",
      "execution_count": 42,
      "id": "0d94dcb5",
      "metadata": {
        "colab": {
          "base_uri": "https://localhost:8080/"
        },
        "id": "0d94dcb5",
        "outputId": "0d727f40-86fa-4042-dacc-aea9fc1ff66f"
      },
      "outputs": [
        {
          "output_type": "stream",
          "name": "stderr",
          "text": [
            "/tmp/ipython-input-547137899.py:2: FutureWarning: YF.download() has changed argument auto_adjust default to True\n",
            "  df = yf.download('AAPL', start = '2020-01-01', end = '2025-01-01')\n",
            "\r[*********************100%***********************]  1 of 1 completed"
          ]
        },
        {
          "output_type": "stream",
          "name": "stdout",
          "text": [
            "Price           Close       High        Low       Open     Volume\n",
            "Ticker           AAPL       AAPL       AAPL       AAPL       AAPL\n",
            "Date                                                             \n",
            "2020-01-02  72.538513  72.598892  71.292304  71.545890  135480400\n",
            "2020-01-03  71.833298  72.594063  71.608692  71.765674  146322800\n",
            "2020-01-06  72.405693  72.444336  70.703027  70.954203  118387200\n",
            "2020-01-07  72.065155  72.671348  71.845377  72.415345  108872000\n",
            "2020-01-08  73.224403  73.526295  71.768079  71.768079  132079200\n"
          ]
        },
        {
          "output_type": "stream",
          "name": "stderr",
          "text": [
            "\n"
          ]
        }
      ],
      "source": [
        "# Load Datastet\n",
        "df = yf.download('AAPL', start = '2020-01-01', end = '2025-01-01')\n",
        "print(df.head())"
      ]
    },
    {
      "cell_type": "code",
      "source": [
        "from sklearn.model_selection import train_test_split\n",
        "from sklearn.preprocessing import MinMaxScaler\n",
        "import numpy as np\n",
        "\n",
        "# Split first (stratify only if classification, otherwise remove)\n",
        "X_train, X_val, y_train, y_val = train_test_split(\n",
        "    X, y, test_size=0.2, shuffle=True, random_state=42\n",
        ")\n",
        "\n",
        "# Extract shape info\n",
        "samples, timesteps, features = X_train.shape\n",
        "\n",
        "# Initialize scaler\n",
        "sc = MinMaxScaler()\n",
        "\n",
        "# Fit on training set (flattened), then transform\n",
        "X_train_scaled = sc.fit_transform(X_train.reshape(samples, timesteps * features))\n",
        "X_val_scaled = sc.transform(X_val.reshape(X_val.shape[0], timesteps * features))\n",
        "\n",
        "# Reshape back to original 3D format\n",
        "X_train = X_train_scaled.reshape(samples, timesteps, features)\n",
        "X_val = X_val_scaled.reshape(X_val.shape[0], timesteps, features)\n"
      ],
      "metadata": {
        "id": "eE44KKqkmtbN"
      },
      "id": "eE44KKqkmtbN",
      "execution_count": 43,
      "outputs": []
    },
    {
      "cell_type": "code",
      "execution_count": 44,
      "id": "5ff71f24",
      "metadata": {
        "id": "5ff71f24"
      },
      "outputs": [],
      "source": [
        "import numpy as np\n",
        "\n",
        "# Parameters\n",
        "window_size = 5\n",
        "\n",
        "# Convert Close prices to NumPy array for faster slicing\n",
        "close_prices = df['Close'].values\n",
        "\n",
        "features = []\n",
        "labels = []\n",
        "\n",
        "for i in range(len(close_prices) - window_size):\n",
        "    past_window = close_prices[i:i + window_size]\n",
        "    current_price = past_window[-1]\n",
        "    next_day_price = close_prices[i + window_size]\n",
        "\n",
        "    features.append(past_window)\n",
        "    labels.append(1 if next_day_price > current_price else 0)\n",
        "\n",
        "# Convert to NumPy arrays\n",
        "X = np.array(features)\n",
        "y = np.array(labels)\n"
      ]
    },
    {
      "cell_type": "code",
      "execution_count": 45,
      "id": "6abc2d50",
      "metadata": {
        "id": "6abc2d50"
      },
      "outputs": [],
      "source": [
        "from sklearn.preprocessing import MinMaxScaler\n",
        "import numpy as np\n",
        "\n",
        "# Extract X, y\n",
        "X = np.array([x[0] for x in data], dtype=float).reshape(-1, window_size, 1)  # (samples, timesteps, features)\n",
        "y = np.array([x[1] for x in data], dtype=int)\n",
        "\n",
        "samples, timesteps, features = X.shape  # Unpacks correctly\n",
        "\n",
        "# Flatten for scaling\n",
        "X_flat = X.reshape(samples, timesteps * features)\n",
        "\n",
        "# Scale\n",
        "sc = MinMaxScaler()\n",
        "X_scaled_flat = sc.fit_transform(X_flat)\n",
        "\n",
        "# Reshape back to 3D\n",
        "X = X_scaled_flat.reshape(samples, timesteps, features)\n",
        "\n"
      ]
    },
    {
      "cell_type": "code",
      "execution_count": 46,
      "id": "1c2eb7f1",
      "metadata": {
        "colab": {
          "base_uri": "https://localhost:8080/"
        },
        "id": "1c2eb7f1",
        "outputId": "77c9da57-e794-48fb-88be-1a4066ee661d"
      },
      "outputs": [
        {
          "output_type": "stream",
          "name": "stdout",
          "text": [
            "Features shape: (1252, 5, 1)\n",
            "Labels shape: (1252,)\n"
          ]
        }
      ],
      "source": [
        "print(\"Features shape:\", X.shape)\n",
        "print(\"Labels shape:\", y.shape)"
      ]
    },
    {
      "cell_type": "code",
      "execution_count": 47,
      "id": "568d9867",
      "metadata": {
        "id": "568d9867"
      },
      "outputs": [],
      "source": [
        "X_train, X_test, y_train, y_test = train_test_split(\n",
        "    X, y, test_size=0.2, shuffle = True\n",
        ")"
      ]
    },
    {
      "cell_type": "code",
      "execution_count": 48,
      "id": "497da7aa",
      "metadata": {
        "colab": {
          "base_uri": "https://localhost:8080/"
        },
        "id": "497da7aa",
        "outputId": "50d1b605-285d-46ee-b4d4-577200099ed1"
      },
      "outputs": [
        {
          "output_type": "stream",
          "name": "stderr",
          "text": [
            "/usr/local/lib/python3.11/dist-packages/keras/src/layers/core/dense.py:93: UserWarning: Do not pass an `input_shape`/`input_dim` argument to a layer. When using Sequential models, prefer using an `Input(shape)` object as the first layer in the model instead.\n",
            "  super().__init__(activity_regularizer=activity_regularizer, **kwargs)\n"
          ]
        }
      ],
      "source": [
        "from tensorflow.keras.layers import Dropout\n",
        "\n",
        "model = Sequential([\n",
        "    Dense(128, activation='relu', input_shape=(window_size,)),\n",
        "    Dropout(0.3),\n",
        "    Dense(64, activation='relu'),\n",
        "    Dropout(0.3),\n",
        "    Dense(1, activation='sigmoid')\n",
        "])"
      ]
    },
    {
      "cell_type": "code",
      "execution_count": 49,
      "id": "342886a4",
      "metadata": {
        "id": "342886a4"
      },
      "outputs": [],
      "source": [
        "model.compile(optimizer='adam', loss='binary_crossentropy', metrics=['accuracy'])"
      ]
    },
    {
      "cell_type": "code",
      "execution_count": 50,
      "id": "e3291ec6",
      "metadata": {
        "id": "e3291ec6"
      },
      "outputs": [],
      "source": [
        "from tensorflow.keras.callbacks import EarlyStopping\n",
        "\n",
        "early_stop = EarlyStopping(\n",
        "    monitor = 'val_loss',\n",
        "    patience = 5,\n",
        "    restore_best_weights = True\n",
        ")"
      ]
    },
    {
      "cell_type": "code",
      "execution_count": 51,
      "id": "47232ce7",
      "metadata": {
        "colab": {
          "base_uri": "https://localhost:8080/"
        },
        "id": "47232ce7",
        "outputId": "92eb4ec3-5cc5-4932-8007-fc63f334cfce"
      },
      "outputs": [
        {
          "output_type": "stream",
          "name": "stdout",
          "text": [
            "Epoch 1/50\n",
            "\u001b[1m32/32\u001b[0m \u001b[32m━━━━━━━━━━━━━━━━━━━━\u001b[0m\u001b[37m\u001b[0m \u001b[1m2s\u001b[0m 13ms/step - accuracy: 0.5335 - loss: 0.6910 - val_accuracy: 0.5418 - val_loss: 0.6894\n",
            "Epoch 2/50\n",
            "\u001b[1m32/32\u001b[0m \u001b[32m━━━━━━━━━━━━━━━━━━━━\u001b[0m\u001b[37m\u001b[0m \u001b[1m0s\u001b[0m 8ms/step - accuracy: 0.5316 - loss: 0.6943 - val_accuracy: 0.5458 - val_loss: 0.6892\n",
            "Epoch 3/50\n",
            "\u001b[1m32/32\u001b[0m \u001b[32m━━━━━━━━━━━━━━━━━━━━\u001b[0m\u001b[37m\u001b[0m \u001b[1m0s\u001b[0m 7ms/step - accuracy: 0.5404 - loss: 0.6909 - val_accuracy: 0.5458 - val_loss: 0.6899\n",
            "Epoch 4/50\n",
            "\u001b[1m32/32\u001b[0m \u001b[32m━━━━━━━━━━━━━━━━━━━━\u001b[0m\u001b[37m\u001b[0m \u001b[1m0s\u001b[0m 7ms/step - accuracy: 0.5478 - loss: 0.6909 - val_accuracy: 0.5458 - val_loss: 0.6896\n",
            "Epoch 5/50\n",
            "\u001b[1m32/32\u001b[0m \u001b[32m━━━━━━━━━━━━━━━━━━━━\u001b[0m\u001b[37m\u001b[0m \u001b[1m0s\u001b[0m 7ms/step - accuracy: 0.5335 - loss: 0.6922 - val_accuracy: 0.5458 - val_loss: 0.6892\n",
            "Epoch 6/50\n",
            "\u001b[1m32/32\u001b[0m \u001b[32m━━━━━━━━━━━━━━━━━━━━\u001b[0m\u001b[37m\u001b[0m \u001b[1m0s\u001b[0m 7ms/step - accuracy: 0.4891 - loss: 0.6986 - val_accuracy: 0.5458 - val_loss: 0.6893\n",
            "Epoch 7/50\n",
            "\u001b[1m32/32\u001b[0m \u001b[32m━━━━━━━━━━━━━━━━━━━━\u001b[0m\u001b[37m\u001b[0m \u001b[1m0s\u001b[0m 6ms/step - accuracy: 0.5019 - loss: 0.6976 - val_accuracy: 0.5458 - val_loss: 0.6884\n",
            "Epoch 8/50\n",
            "\u001b[1m32/32\u001b[0m \u001b[32m━━━━━━━━━━━━━━━━━━━━\u001b[0m\u001b[37m\u001b[0m \u001b[1m0s\u001b[0m 6ms/step - accuracy: 0.5407 - loss: 0.6920 - val_accuracy: 0.5458 - val_loss: 0.6886\n",
            "Epoch 9/50\n",
            "\u001b[1m32/32\u001b[0m \u001b[32m━━━━━━━━━━━━━━━━━━━━\u001b[0m\u001b[37m\u001b[0m \u001b[1m0s\u001b[0m 6ms/step - accuracy: 0.5502 - loss: 0.6919 - val_accuracy: 0.5458 - val_loss: 0.6893\n",
            "Epoch 10/50\n",
            "\u001b[1m32/32\u001b[0m \u001b[32m━━━━━━━━━━━━━━━━━━━━\u001b[0m\u001b[37m\u001b[0m \u001b[1m0s\u001b[0m 6ms/step - accuracy: 0.5220 - loss: 0.6931 - val_accuracy: 0.5458 - val_loss: 0.6891\n",
            "Epoch 11/50\n",
            "\u001b[1m32/32\u001b[0m \u001b[32m━━━━━━━━━━━━━━━━━━━━\u001b[0m\u001b[37m\u001b[0m \u001b[1m0s\u001b[0m 6ms/step - accuracy: 0.5306 - loss: 0.6929 - val_accuracy: 0.5458 - val_loss: 0.6888\n",
            "Epoch 12/50\n",
            "\u001b[1m32/32\u001b[0m \u001b[32m━━━━━━━━━━━━━━━━━━━━\u001b[0m\u001b[37m\u001b[0m \u001b[1m0s\u001b[0m 6ms/step - accuracy: 0.5323 - loss: 0.6916 - val_accuracy: 0.5458 - val_loss: 0.6886\n"
          ]
        }
      ],
      "source": [
        "history = model.fit(\n",
        "    X_train, y_train,\n",
        "    validation_data=(X_val, y_val),\n",
        "    epochs=50,\n",
        "    batch_size=32,\n",
        "    callbacks=[EarlyStopping(monitor='val_loss', patience=5, restore_best_weights=True)]\n",
        ")\n"
      ]
    },
    {
      "cell_type": "code",
      "execution_count": 52,
      "id": "d57f9d14",
      "metadata": {
        "colab": {
          "base_uri": "https://localhost:8080/"
        },
        "id": "d57f9d14",
        "outputId": "41f7a50d-f413-4b47-ab05-16a9e395605e"
      },
      "outputs": [
        {
          "output_type": "stream",
          "name": "stderr",
          "text": [
            "WARNING:tensorflow:5 out of the last 17 calls to <function TensorFlowTrainer.make_predict_function.<locals>.one_step_on_data_distributed at 0x7f7b6d6a4220> triggered tf.function retracing. Tracing is expensive and the excessive number of tracings could be due to (1) creating @tf.function repeatedly in a loop, (2) passing tensors with different shapes, (3) passing Python objects instead of tensors. For (1), please define your @tf.function outside of the loop. For (2), @tf.function has reduce_retracing=True option that can avoid unnecessary retracing. For (3), please refer to https://www.tensorflow.org/guide/function#controlling_retracing and https://www.tensorflow.org/api_docs/python/tf/function for  more details.\n"
          ]
        },
        {
          "output_type": "stream",
          "name": "stdout",
          "text": [
            "\u001b[1m8/8\u001b[0m \u001b[32m━━━━━━━━━━━━━━━━━━━━\u001b[0m\u001b[37m\u001b[0m \u001b[1m0s\u001b[0m 12ms/step\n",
            "[[  0 121]\n",
            " [  0 130]]\n"
          ]
        }
      ],
      "source": [
        "from sklearn.metrics import confusion_matrix, classification_report\n",
        "\n",
        "y_pred_prob = model.predict(X_test)\n",
        "y_pred = (y_pred_prob > 0.5).astype(int)\n",
        "\n",
        "cm = confusion_matrix(y_test, y_pred)\n",
        "print(cm)"
      ]
    },
    {
      "cell_type": "code",
      "execution_count": 53,
      "id": "421046c7",
      "metadata": {
        "colab": {
          "base_uri": "https://localhost:8080/"
        },
        "id": "421046c7",
        "outputId": "b3444981-7810-4360-e178-cbe62f0d7b96"
      },
      "outputs": [
        {
          "output_type": "stream",
          "name": "stdout",
          "text": [
            "\u001b[1m8/8\u001b[0m \u001b[32m━━━━━━━━━━━━━━━━━━━━\u001b[0m\u001b[37m\u001b[0m \u001b[1m0s\u001b[0m 6ms/step - accuracy: 0.5199 - loss: 0.6916 \n",
            "Test Accuracy: 51.79%\n"
          ]
        }
      ],
      "source": [
        "loss, acc = model.evaluate(X_test, y_test)\n",
        "print(f\"Test Accuracy: {acc*100:.2f}%\")"
      ]
    },
    {
      "cell_type": "code",
      "execution_count": 54,
      "id": "0de45def",
      "metadata": {
        "colab": {
          "base_uri": "https://localhost:8080/",
          "height": 430
        },
        "id": "0de45def",
        "outputId": "570842f1-84e8-4e06-9f1e-422230709c36"
      },
      "outputs": [
        {
          "output_type": "display_data",
          "data": {
            "text/plain": [
              "<Figure size 640x480 with 1 Axes>"
            ],
            "image/png": "[encoded data removed]"
          },
          "metadata": {}
        }
      ],
      "source": [
        "plt.plot(history.history['accuracy'], label='Train Accuracy')\n",
        "plt.plot(history.history['val_accuracy'], label='Val Accuracy')\n",
        "plt.legend()\n",
        "plt.show()"
      ]
    },
    {
      "cell_type": "code",
      "execution_count": 55,
      "id": "b0892768",
      "metadata": {
        "colab": {
          "base_uri": "https://localhost:8080/"
        },
        "id": "b0892768",
        "outputId": "56f29a62-31a5-4207-8bba-8dc1a18ff8ed"
      },
      "outputs": [
        {
          "output_type": "stream",
          "name": "stdout",
          "text": [
            "Train: {np.int64(0): np.int64(463), np.int64(1): np.int64(538)}\n",
            "Val: {np.int64(0): np.int64(114), np.int64(1): np.int64(137)}\n"
          ]
        }
      ],
      "source": [
        "import numpy as np\n",
        "print(\"Train:\", dict(zip(*np.unique(y_train, return_counts=True))))\n",
        "print(\"Val:\", dict(zip(*np.unique(y_val, return_counts=True))))"
      ]
    },
    {
      "cell_type": "code",
      "source": [
        "import numpy as np\n",
        "unique, counts = np.unique(y_train, return_counts=True)\n",
        "print(dict(zip(unique, counts)))\n"
      ],
      "metadata": {
        "colab": {
          "base_uri": "https://localhost:8080/"
        },
        "id": "iqFKurSQoyac",
        "outputId": "b5fecbc3-73e3-4c80-d51b-de6b62558073"
      },
      "id": "iqFKurSQoyac",
      "execution_count": 56,
      "outputs": [
        {
          "output_type": "stream",
          "name": "stdout",
          "text": [
            "{np.int64(0): np.int64(463), np.int64(1): np.int64(538)}\n"
          ]
        }
      ]
    }
  ],
  "metadata": {
    "kernelspec": {
      "display_name": "Python 3",
      "language": "python",
      "name": "python3"
    },
    "language_info": {
      "codemirror_mode": {
        "name": "ipython",
        "version": 3
      },
      "file_extension": ".py",
      "mimetype": "text/x-python",
      "name": "python",
      "nbconvert_exporter": "python",
      "pygments_lexer": "ipython3",
      "version": "3.13.6"
    },
    "colab": {
      "provenance": []
    }
  },
  "nbformat": 4,
  "nbformat_minor": 5
}